{
 "cells": [
  {
   "cell_type": "markdown",
   "id": "1318ea93",
   "metadata": {},
   "source": [
    "# Python Assingment 1"
   ]
  },
  {
   "cell_type": "markdown",
   "id": "4416e1dd",
   "metadata": {},
   "source": [
    "# 1. Python program to check whether the given number is even or not."
   ]
  },
  {
   "cell_type": "code",
   "execution_count": 3,
   "id": "2cf1c2c9",
   "metadata": {},
   "outputs": [
    {
     "name": "stdout",
     "output_type": "stream",
     "text": [
      "Enter the numbber: 32\n",
      "32 is even number\n"
     ]
    }
   ],
   "source": [
    "def Even_Odd(num):\n",
    "    if num%2==0:\n",
    "        print(f\"{num} is even number\")\n",
    "    else:\n",
    "        print(f\"{num} is odd number\")\n",
    "    \n",
    "num = int(input(\"Enter the numbber: \"))\n",
    "Even_Odd(num)\n",
    "    "
   ]
  },
  {
   "cell_type": "markdown",
   "id": "41621ac7",
   "metadata": {},
   "source": [
    "# 2. Python program to convert the temperature in degree centigrade to Fahrenheit."
   ]
  },
  {
   "cell_type": "code",
   "execution_count": null,
   "id": "4f5063d3",
   "metadata": {},
   "outputs": [],
   "source": [
    "# def convert_temperature(centigrade_value):\n",
    "    fahrenheit_value = 9/5*centigrade_value + 32\n",
    "    return fahrenheit_value\n",
    "C = float(input(\"Enter your centigrade value: \"))\n",
    "F = convert_temperature(C)\n",
    "print(f\"Value of {C} centigrade in fahrenheit is: {F}\")"
   ]
  },
  {
   "cell_type": "markdown",
   "id": "38f16fa6",
   "metadata": {},
   "source": [
    "# 3. Python program to find the area of a triangle whose sides are given."
   ]
  },
  {
   "cell_type": "code",
   "execution_count": 13,
   "id": "710ff76f",
   "metadata": {},
   "outputs": [
    {
     "name": "stdout",
     "output_type": "stream",
     "text": [
      "Height of triangle is: 4 cm\n",
      "Base of triangle is: 5 cm\n",
      "Area of triangle is: 10.0 cmxcm\n"
     ]
    }
   ],
   "source": [
    "height = 4\n",
    "base = 5\n",
    "area = height*base\n",
    "print(f\"Height of triangle is: {height} cm\")\n",
    "print(f\"Base of triangle is: {base} cm\")\n",
    "print(\"Area of triangle is:\",height*base/2,\"cmxcm\" )\n"
   ]
  },
  {
   "cell_type": "markdown",
   "id": "262f8128",
   "metadata": {},
   "source": [
    "# 4. Python program to find out the average of a set of integers."
   ]
  },
  {
   "cell_type": "code",
   "execution_count": 15,
   "id": "909b0fa8",
   "metadata": {},
   "outputs": [
    {
     "name": "stdout",
     "output_type": "stream",
     "text": [
      "Average of given list is:16.4\n"
     ]
    }
   ],
   "source": [
    "numbers = [4,5,68,1,4]\n",
    "sum = 0\n",
    "for num in numbers:\n",
    "    sum = sum+num\n",
    "print(f\"Average of given list is:{sum/len(numbers)}\")\n",
    "  "
   ]
  },
  {
   "cell_type": "markdown",
   "id": "1558f065",
   "metadata": {},
   "source": [
    "# 5. Python program to find the product of a set of real numbers."
   ]
  },
  {
   "cell_type": "code",
   "execution_count": 16,
   "id": "fb5c9b5f",
   "metadata": {},
   "outputs": [
    {
     "name": "stdout",
     "output_type": "stream",
     "text": [
      "Product of set of given real number is: 240\n"
     ]
    }
   ],
   "source": [
    "set_value = (4,5,6,2)\n",
    "product = 1\n",
    "for num in set_value:\n",
    "    product = product*num\n",
    "print(f\"Product of set of given real number is: {product}\")\n",
    "    "
   ]
  },
  {
   "cell_type": "markdown",
   "id": "bba6a6f4",
   "metadata": {},
   "source": [
    "# 6. Python program to find the circumference and area of a circle with a given radius."
   ]
  },
  {
   "cell_type": "code",
   "execution_count": 19,
   "id": "58cdb74b",
   "metadata": {},
   "outputs": [
    {
     "name": "stdout",
     "output_type": "stream",
     "text": [
      "Area of Circumderence is: 31.5\n",
      "Circumference of circle is: 78.75\n"
     ]
    }
   ],
   "source": [
    "radius = 5\n",
    "print(f\"Area of Circumderence is: {2*3.15*radius}\")\n",
    "print(f\"Circumference of circle is: {3.15*radius*radius}\")"
   ]
  },
  {
   "cell_type": "markdown",
   "id": "886a0ea8",
   "metadata": {},
   "source": [
    "# 7. Python program to check whether the given integer is a multiple of 5."
   ]
  },
  {
   "cell_type": "code",
   "execution_count": 20,
   "id": "a4551e99",
   "metadata": {},
   "outputs": [
    {
     "name": "stdout",
     "output_type": "stream",
     "text": [
      "Enter your number45\n",
      "Yes, 45 is multiple of 5\n"
     ]
    }
   ],
   "source": [
    "number = int(input(\"Enter your number\"))\n",
    "if number%5==0:\n",
    "    print(f\"Yes, {number} is multiple of 5\")\n",
    "else:\n",
    "    print(f\"No,{number} is not multiple of 5\")"
   ]
  },
  {
   "cell_type": "markdown",
   "id": "0a45e1b9",
   "metadata": {},
   "source": [
    "# 8. Python program to check whether the given integer is a multiple of both 5 and 7."
   ]
  },
  {
   "cell_type": "code",
   "execution_count": 22,
   "id": "f5477ac9",
   "metadata": {},
   "outputs": [
    {
     "name": "stdout",
     "output_type": "stream",
     "text": [
      "Enter your number85\n",
      "85 is multiple of 5.\n"
     ]
    }
   ],
   "source": [
    "number = int(input(\"Enter your number\"))\n",
    "if number%5==0 and number%7==0:\n",
    "    print(f\"Yes, {number} is multiple of 5 and 7.\")\n",
    "elif number%5==0:\n",
    "    print(f\"{number} is multiple of 5.\")\n",
    "elif number%7==0:\n",
    "    print(f\"{number} is multiple of 7.\")\n",
    "else:\n",
    "    print(f\"{number} is not multiple of 5 and 7.\")"
   ]
  },
  {
   "cell_type": "markdown",
   "id": "791e90b9",
   "metadata": {},
   "source": [
    "# 9. Python program to display the given integer in a reverse manner"
   ]
  },
  {
   "cell_type": "code",
   "execution_count": 1,
   "id": "9f85ea70",
   "metadata": {},
   "outputs": [
    {
     "name": "stdout",
     "output_type": "stream",
     "text": [
      "Value of 234 in reverse manner is: 432\n"
     ]
    }
   ],
   "source": [
    "number = \"234\"\n",
    "reverse = number[::-1]\n",
    "ans = int(reverse)\n",
    "print(f\"Value of 234 in reverse manner is: {ans}\")"
   ]
  },
  {
   "cell_type": "markdown",
   "id": "4912c71b",
   "metadata": {},
   "source": [
    "# 10. Python program to find the geometric mean of n numbers"
   ]
  },
  {
   "cell_type": "code",
   "execution_count": 2,
   "id": "339317c5",
   "metadata": {},
   "outputs": [
    {
     "name": "stdout",
     "output_type": "stream",
     "text": [
      "Enter a set of numbers separated by spaces: 4 6 8\n",
      "The geometric mean is: 5.768998281229633\n"
     ]
    }
   ],
   "source": [
    "import math\n",
    "\n",
    "def calculate_geometric_mean(numbers):\n",
    "    if not numbers:\n",
    "        return None  # Return None for an empty set of numbers\n",
    "\n",
    "    product = 1\n",
    "    for num in numbers:\n",
    "        product *= num\n",
    "\n",
    "    geometric_mean = math.pow(product, 1/len(numbers))\n",
    "    return geometric_mean\n",
    "\n",
    "# Example usage:\n",
    "numbers = [float(x) for x in input(\"Enter a set of numbers separated by spaces: \").split()]\n",
    "geometric_mean = calculate_geometric_mean(numbers)\n",
    "\n",
    "if geometric_mean is not None:\n",
    "    print(\"The geometric mean is:\", geometric_mean)\n",
    "else:\n",
    "    print(\"Please enter a valid set of numbers.\")\n"
   ]
  },
  {
   "cell_type": "markdown",
   "id": "4de0b984",
   "metadata": {},
   "source": [
    "# 11. Python program to find the sum of the digits of an integer using a while loop"
   ]
  },
  {
   "cell_type": "code",
   "execution_count": 6,
   "id": "d9c1d386",
   "metadata": {},
   "outputs": [
    {
     "name": "stdout",
     "output_type": "stream",
     "text": [
      "Enter value of integer: 456\n",
      "Sum of digits is:  15\n"
     ]
    }
   ],
   "source": [
    "# take integer as user input\n",
    "number = int(input(\"Enter value of integer: \"))\n",
    "sum = 0\n",
    "\n",
    "# while number equal to zero then loop will break\n",
    "while number!=0:\n",
    "    digit = number%10\n",
    "    number = number//10\n",
    "    sum = sum+digit\n",
    "print(\"Sum of digits is: \",sum)\n",
    "    "
   ]
  },
  {
   "cell_type": "markdown",
   "id": "387ece30",
   "metadata": {},
   "source": [
    "# 12. Python program to display all the multiples of 3 within the range 10 to 50"
   ]
  },
  {
   "cell_type": "code",
   "execution_count": 17,
   "id": "017ee718",
   "metadata": {},
   "outputs": [
    {
     "name": "stdout",
     "output_type": "stream",
     "text": [
      "Multiples of 3 within the range 10 to 50:\n",
      "12\n",
      "15\n",
      "18\n",
      "21\n",
      "24\n",
      "27\n",
      "30\n",
      "33\n",
      "36\n",
      "39\n",
      "42\n",
      "45\n",
      "48\n"
     ]
    }
   ],
   "source": [
    "# Display multiples of 3 within the range 10 to 50\n",
    "start_range = 10\n",
    "end_range = 50\n",
    "\n",
    "print(f\"Multiples of 3 within the range {start_range} to {end_range}:\")\n",
    "\n",
    "for number in range(start_range, end_range + 1):\n",
    "    if number % 3 == 0:\n",
    "        print(number)"
   ]
  },
  {
   "cell_type": "markdown",
   "id": "753d3821",
   "metadata": {},
   "source": [
    "# 13. Python program to display all integers within the range 100-200 whose sum of digits is an even number"
   ]
  },
  {
   "cell_type": "code",
   "execution_count": 29,
   "id": "f63436ff",
   "metadata": {},
   "outputs": [
    {
     "name": "stdout",
     "output_type": "stream",
     "text": [
      "All integer in within range 100-200 is: \n",
      "101\n",
      "103\n",
      "105\n",
      "107\n",
      "109\n",
      "110\n",
      "112\n",
      "114\n",
      "116\n",
      "118\n",
      "121\n",
      "123\n",
      "125\n",
      "127\n",
      "129\n",
      "130\n",
      "132\n",
      "134\n",
      "136\n",
      "138\n",
      "141\n",
      "143\n",
      "145\n",
      "147\n",
      "149\n",
      "150\n",
      "152\n",
      "154\n",
      "156\n",
      "158\n",
      "161\n",
      "163\n",
      "165\n",
      "167\n",
      "169\n",
      "170\n",
      "172\n",
      "174\n",
      "176\n",
      "178\n",
      "181\n",
      "183\n",
      "185\n",
      "187\n",
      "189\n",
      "190\n",
      "192\n",
      "194\n",
      "196\n",
      "198\n",
      "200\n"
     ]
    }
   ],
   "source": [
    "# define function to calculate the sum of digit \n",
    "def digit_sum(number):\n",
    "    sum =0\n",
    "    while number!=0:\n",
    "        digit = number%10\n",
    "        sum = sum+digit\n",
    "        number //= 10\n",
    "    return sum\n",
    "\n",
    "s= 100\n",
    "e = 201\n",
    "ans = 0\n",
    "print(\"All integer in within range 100-200 is: \")\n",
    "for num in range(s,e+1):\n",
    "    if digit_sum(num)%2==0:\n",
    "        print(num)\n",
    "    \n",
    "    "
   ]
  },
  {
   "cell_type": "markdown",
   "id": "61c7e9f6",
   "metadata": {},
   "source": [
    "# 14. Python program to check whether the given integer is a prime number or not"
   ]
  },
  {
   "cell_type": "code",
   "execution_count": 6,
   "id": "1710aacc",
   "metadata": {},
   "outputs": [
    {
     "name": "stdout",
     "output_type": "stream",
     "text": [
      "Enter integer to check prime or not: 43\n",
      "Yes , 43 is prime number\n"
     ]
    }
   ],
   "source": [
    "def check_prime(number):\n",
    "    if number<2:\n",
    "        return False\n",
    "    for i in range(2,int(number**0.5)+1):\n",
    "        if number%i==0:\n",
    "            return False\n",
    "        return True\n",
    "number = int(input(\"Enter integer to check prime or not: \"))\n",
    "if check_prime(number)==True:\n",
    "    print(f\"Yes , {number} is prime number\")\n",
    "else:\n",
    "    print(f\"No , {number} is not prime number\")\n"
   ]
  },
  {
   "cell_type": "markdown",
   "id": "4cff019c",
   "metadata": {},
   "source": [
    "# 15. Python program to generate the prime numbers from 1 to N."
   ]
  },
  {
   "cell_type": "code",
   "execution_count": 9,
   "id": "9a4a8a0d",
   "metadata": {},
   "outputs": [
    {
     "name": "stdout",
     "output_type": "stream",
     "text": [
      "Prime number in range 1 to 10 is: \n",
      "5\n",
      "7\n",
      "9\n"
     ]
    }
   ],
   "source": [
    "# create function to check prime number\n",
    "def prime_number(n):\n",
    "    if n<2:\n",
    "        return False\n",
    "    for i in range(2,int(n**0.5)+1):\n",
    "        if n%i==0:\n",
    "            return False\n",
    "        else:\n",
    "            return True\n",
    "        \n",
    "# call the function and display the prime number\n",
    "n = 10\n",
    "print(f\"Prime number in range 1 to {n} is: \")\n",
    "for i in range(1,n+1):\n",
    "    if prime_number(i)==True:\n",
    "        print(i)\n",
    "    "
   ]
  },
  {
   "cell_type": "markdown",
   "id": "aa04cdc2",
   "metadata": {},
   "source": [
    "# 16. Python program to find the roots of a quadratic equation."
   ]
  },
  {
   "cell_type": "code",
   "execution_count": 11,
   "id": "1122d240",
   "metadata": {},
   "outputs": [
    {
     "name": "stdout",
     "output_type": "stream",
     "text": [
      "Enter coefficient a: 5\n",
      "Enter coefficient b: 4\n",
      "Enter coefficient c: 2\n",
      "Root 1: (-0.4+0.4898979485566356j)\n",
      "Root 2: (-0.4-0.4898979485566356j)\n"
     ]
    }
   ],
   "source": [
    "import cmath  # Import the complex math module for handling complex roots\n",
    "\n",
    "def find_roots(a, b, c):\n",
    "    # Calculate the discriminant\n",
    "    discriminant = b**2 - 4*a*c\n",
    "\n",
    "    # Check if the discriminant is non-negative for real roots\n",
    "    if discriminant >= 0:\n",
    "        # Calculate the roots\n",
    "        root1 = (-b + cmath.sqrt(discriminant)) / (2*a)\n",
    "        root2 = (-b - cmath.sqrt(discriminant)) / (2*a)\n",
    "        return root1, root2\n",
    "    else:\n",
    "        # Calculate complex roots\n",
    "        real_part = -b / (2*a)\n",
    "        imaginary_part = cmath.sqrt(abs(discriminant)) / (2*a)\n",
    "        root1 = complex(real_part, imaginary_part)\n",
    "        root2 = complex(real_part, -imaginary_part)\n",
    "        return root1, root2\n",
    "\n",
    "# Input coefficients a, b, and c\n",
    "a = float(input(\"Enter coefficient a: \"))\n",
    "b = float(input(\"Enter coefficient b: \"))\n",
    "c = float(input(\"Enter coefficient c: \"))\n",
    "\n",
    "# Find and display the roots\n",
    "roots = find_roots(a, b, c)\n",
    "print(\"Root 1:\", roots[0])\n",
    "print(\"Root 2:\", roots[1])\n"
   ]
  },
  {
   "cell_type": "markdown",
   "id": "c6fc9565",
   "metadata": {},
   "source": [
    "# 17. Python program to print the numbers from a given number n till 0 using recursion."
   ]
  },
  {
   "cell_type": "code",
   "execution_count": 21,
   "id": "c5c28016",
   "metadata": {},
   "outputs": [
    {
     "name": "stdout",
     "output_type": "stream",
     "text": [
      "Enter a number: 5\n",
      "Numbers from 5 to 0 is: \n",
      "5\n",
      "4\n",
      "3\n",
      "2\n",
      "1\n",
      "0\n"
     ]
    }
   ],
   "source": [
    "# define function to display number\n",
    "def print_numbers(n):\n",
    "    if n<0:\n",
    "        return \n",
    "    print(n)\n",
    "    print_numbers(n-1)\n",
    "\n",
    "num = int(input(\"Enter a number: \"))\n",
    "print(f\"Numbers from {num} to 0 is: \")\n",
    "print_numbers(num)\n"
   ]
  },
  {
   "cell_type": "markdown",
   "id": "ad144929",
   "metadata": {},
   "source": [
    "# 18. Python program to find the factorial of a number using recursion."
   ]
  },
  {
   "cell_type": "code",
   "execution_count": 22,
   "id": "329ec864",
   "metadata": {},
   "outputs": [
    {
     "name": "stdout",
     "output_type": "stream",
     "text": [
      "Enter integer value to calculated factorial: 5\n",
      "Factorial of 5 is: 120\n"
     ]
    }
   ],
   "source": [
    "# define function to calculate factorial\n",
    "def factorial(num):\n",
    "    if num==0 :\n",
    "        return 1\n",
    "    return num*factorial(num-1)\n",
    "\n",
    "# call the function\n",
    "num = int(input(\"Enter integer value to calculated factorial: \"))\n",
    "fact = factorial(num)\n",
    "print(f\"Factorial of {num} is: {fact}\")"
   ]
  },
  {
   "cell_type": "markdown",
   "id": "0350b1f3",
   "metadata": {},
   "source": [
    "# 19. Python program to display the sum of n numbers using a list."
   ]
  },
  {
   "cell_type": "code",
   "execution_count": 23,
   "id": "6ea71d50",
   "metadata": {},
   "outputs": [
    {
     "name": "stdout",
     "output_type": "stream",
     "text": [
      "Sum of given numbers in list is: 15\n"
     ]
    }
   ],
   "source": [
    "# create a list\n",
    "list1 = [2,3,4,6]\n",
    "sum = 0\n",
    "\n",
    "# iterate list through the for loop\n",
    "for i in list1:\n",
    "    sum += i\n",
    "print(f\"Sum of given numbers in list is: {sum}\")"
   ]
  },
  {
   "cell_type": "markdown",
   "id": "864e952e",
   "metadata": {},
   "source": [
    "# 20. Python program to implement linear search."
   ]
  },
  {
   "cell_type": "code",
   "execution_count": 28,
   "id": "1fea0825",
   "metadata": {},
   "outputs": [
    {
     "name": "stdout",
     "output_type": "stream",
     "text": [
      "Enter the number to search for: 9\n",
      "The target number 9 is found at index 4.\n"
     ]
    }
   ],
   "source": [
    "def linear_search(arr, target):\n",
    "    for i in range(len(arr)):\n",
    "        if arr[i] == target:\n",
    "            return i  # Return the index if the target is found\n",
    "    return -1  \n",
    "# Return -1 if the target is not found\n",
    "\n",
    "# Example usage:\n",
    "# Create a list of numbers\n",
    "numbers = [1, 4, 7, 2, 9, 5, 8]\n",
    "\n",
    "# Specify the target number to search for\n",
    "target_number = int(input(\"Enter the number to search for: \"))\n",
    "\n",
    "# Perform linear search and print the result\n",
    "result = linear_search(numbers, target_number)\n",
    "if result != -1:\n",
    "    print(f\"The target number {target_number} is found at index {result}.\")\n",
    "else:\n",
    "    print(f\"The target number {target_number} is not found in the list.\")\n"
   ]
  },
  {
   "cell_type": "markdown",
   "id": "7a11bba8",
   "metadata": {},
   "source": [
    "#  21. Python program to implement binary search."
   ]
  },
  {
   "cell_type": "code",
   "execution_count": 1,
   "id": "906de572",
   "metadata": {},
   "outputs": [
    {
     "name": "stdout",
     "output_type": "stream",
     "text": [
      "Enter the number to search for: 5\n",
      "The target number 5 is found at index 5.\n"
     ]
    }
   ],
   "source": [
    "# create function for binary search\n",
    "def binary_search(arr,target):\n",
    "    left=0\n",
    "    right = len(arr)-1\n",
    "    \n",
    "    while(left<=right):\n",
    "        mid = left + (right-left)//2\n",
    "        if mid==target:\n",
    "            return mid\n",
    "        if arr[mid]<target:\n",
    "            left = mid+1\n",
    "        else:\n",
    "            right = mid-1\n",
    "        \n",
    "    return mid\n",
    "\n",
    "numbers = [1, 4, 7, 2, 9, 5, 8]\n",
    "\n",
    "# Specify the target number to search for\n",
    "target_number = int(input(\"Enter the number to search for: \"))\n",
    "\n",
    "# Perform binary search and print the result\n",
    "result = binary_search(numbers, target_number)\n",
    "if result != -1:\n",
    "    print(f\"The target number {target_number} is found at index {result}.\")\n",
    "else:\n",
    "    print(f\"The target number {target_number} is not found in the list.\")\n",
    "\n",
    "        "
   ]
  },
  {
   "cell_type": "markdown",
   "id": "5fc8cbfb",
   "metadata": {},
   "source": [
    "# 22. Python program to find the odd numbers in an array."
   ]
  },
  {
   "cell_type": "code",
   "execution_count": 7,
   "id": "86d92db8",
   "metadata": {},
   "outputs": [
    {
     "name": "stdout",
     "output_type": "stream",
     "text": [
      "Odd number in givien list is: [23, 1, 3]\n"
     ]
    }
   ],
   "source": [
    "arr = [23,44,66,1,3,2,8]\n",
    "odd_numbers = []\n",
    "for i in arr:\n",
    "    if i%2!=0:\n",
    "        odd_numbers.append(i)\n",
    "print(f\"Odd number in givien list is: {odd_numbers}\")"
   ]
  },
  {
   "cell_type": "markdown",
   "id": "2111baa6",
   "metadata": {},
   "source": [
    "# 23. Python program to find the largest number in a list without using built-in functions."
   ]
  },
  {
   "cell_type": "code",
   "execution_count": 10,
   "id": "cfed7cfe",
   "metadata": {},
   "outputs": [
    {
     "name": "stdout",
     "output_type": "stream",
     "text": [
      "Largest value in given list is: 99\n"
     ]
    }
   ],
   "source": [
    "# create list to check largest element\n",
    "list1 = [23,45,87,12,8,99]\n",
    "largest_value= -1\n",
    "\n",
    "# iterate list through the for loop\n",
    "for i in range(len(list1)):\n",
    "    if list1[i]>largest_value:\n",
    "        largest_value = list1[i]\n",
    "print(f\"Largest value in given list is: {largest_value}\")"
   ]
  },
  {
   "cell_type": "markdown",
   "id": "1ac52059",
   "metadata": {},
   "source": [
    "# 24. Python program to insert a number to any position in a list."
   ]
  },
  {
   "cell_type": "code",
   "execution_count": 18,
   "id": "07565882",
   "metadata": {},
   "outputs": [
    {
     "name": "stdout",
     "output_type": "stream",
     "text": [
      "Enter the position to insert the number: 2\n",
      "Enter the number to insert: 55\n",
      "Updated list: [1, 2, 55, 3, 4, 5]\n"
     ]
    }
   ],
   "source": [
    "def insert_number_at_position(lst, position, number):\n",
    "    # Check if the position is valid\n",
    "    if position < 0 or position > len(lst):\n",
    "        print(\"Invalid position.\")\n",
    "        return\n",
    "\n",
    "    # Insert the number at the specified position\n",
    "    lst.insert(position, number)\n",
    "\n",
    "# Example usage:\n",
    "# Create a list of numbers\n",
    "numbers = [1, 2, 3, 4, 5]\n",
    "\n",
    "# Input: Take the position and number to insert from the user\n",
    "position = int(input(\"Enter the position to insert the number: \"))\n",
    "number_to_insert = int(input(\"Enter the number to insert: \"))\n",
    "\n",
    "# Call the function to insert the number at the specified position\n",
    "insert_number_at_position(numbers, position, number_to_insert)\n",
    "\n",
    "# Display the updated list\n",
    "print(\"Updated list:\", numbers)\n"
   ]
  },
  {
   "cell_type": "markdown",
   "id": "76fba5fc",
   "metadata": {},
   "source": [
    "# 25. Python program to delete an element from a list by index."
   ]
  },
  {
   "cell_type": "code",
   "execution_count": 24,
   "id": "f89a8a76",
   "metadata": {},
   "outputs": [
    {
     "name": "stdout",
     "output_type": "stream",
     "text": [
      "Enter the index to delete: 3\n",
      "Updated list: [1, 2, 3, 5]\n"
     ]
    }
   ],
   "source": [
    "def delete_element_by_index(lst, index):\n",
    "    # Check if the index is valid\n",
    "    if index < 0 or index >= len(lst):\n",
    "        print(\"Invalid index.\")\n",
    "        return\n",
    "\n",
    "    # Delete the element at the specified index\n",
    "    del lst[index]\n",
    "\n",
    "# Example usage:\n",
    "# Create a list of numbers\n",
    "numbers = [1, 2, 3, 4, 5]\n",
    "\n",
    "# Input: Take the index to delete from the user\n",
    "index_to_delete = int(input(\"Enter the index to delete: \"))\n",
    "\n",
    "# Call the function to delete the element at the specified index\n",
    "delete_element_by_index(numbers, index_to_delete)\n",
    "\n",
    "# Display the updated list\n",
    "print(\"Updated list:\", numbers)\n"
   ]
  },
  {
   "cell_type": "markdown",
   "id": "5f78485c",
   "metadata": {},
   "source": [
    "# 26. Python program to check whether a string is palindrome or not."
   ]
  },
  {
   "cell_type": "code",
   "execution_count": 27,
   "id": "14bf3acd",
   "metadata": {},
   "outputs": [
    {
     "name": "stdout",
     "output_type": "stream",
     "text": [
      "Enter a string: vijay\n",
      "The string ' vijay ' is not a palindrome.\n"
     ]
    }
   ],
   "source": [
    "def is_palindrome(s):\n",
    "    # Remove spaces and convert to lowercase for case-insensitive comparison\n",
    "    s = s.replace(\" \", \"\").lower()\n",
    "\n",
    "    # Compare the original string with its reverse\n",
    "    return s == s[::-1]\n",
    "\n",
    "# Example usage:\n",
    "# Input: Take a string from the user\n",
    "input_string = input(\"Enter a string: \")\n",
    "\n",
    "# Check if the string is a palindrome\n",
    "if is_palindrome(input_string):\n",
    "    print(f\"The string {input_string} is a palindrome.\")\n",
    "else:\n",
    "    print(f\"The string ' {input_string} ' is not a palindrome.\")\n"
   ]
  },
  {
   "cell_type": "markdown",
   "id": "51e0f613",
   "metadata": {},
   "source": [
    "# 27. Python program to implement matrix addition."
   ]
  },
  {
   "cell_type": "code",
   "execution_count": 29,
   "id": "6a988bc9",
   "metadata": {},
   "outputs": [
    {
     "name": "stdout",
     "output_type": "stream",
     "text": [
      "Enter details for the first matrix:\n",
      "Enter the number of rows: 2\n",
      "Enter the number of columns: 2\n",
      "Enter matrix elements row-wise:\n",
      "1 2\n",
      "4 5\n",
      "Enter details for the second matrix:\n",
      "Enter the number of rows: 2\n",
      "Enter the number of columns: 2\n",
      "Enter matrix elements row-wise:\n",
      "6 8\n",
      "9 3\n",
      "Matrix Addition Result:\n",
      "[7, 10]\n",
      "[13, 8]\n"
     ]
    }
   ],
   "source": [
    "def matrix_addition(matrix1, matrix2):\n",
    "    # Check if the matrices have the same dimensions\n",
    "    if len(matrix1) != len(matrix2) or len(matrix1[0]) != len(matrix2[0]):\n",
    "        print(\"Matrices must have the same dimensions for addition.\")\n",
    "        return None\n",
    "\n",
    "    # Perform matrix addition\n",
    "    result_matrix = [[0 for _ in range(len(matrix1[0]))] for _ in range(len(matrix1))]\n",
    "\n",
    "    for i in range(len(matrix1)):\n",
    "        for j in range(len(matrix1[0])):\n",
    "            result_matrix[i][j] = matrix1[i][j] + matrix2[i][j]\n",
    "\n",
    "    return result_matrix\n",
    "\n",
    "# Example usage:\n",
    "# Input: Take two matrices from the user\n",
    "def input_matrix():\n",
    "    rows = int(input(\"Enter the number of rows: \"))\n",
    "    cols = int(input(\"Enter the number of columns: \"))\n",
    "\n",
    "    matrix = []\n",
    "    print(\"Enter matrix elements row-wise:\")\n",
    "    for i in range(rows):\n",
    "        row = [int(x) for x in input().split()]\n",
    "        if len(row) != cols:\n",
    "            print(\"Invalid input. Please enter exactly\", cols, \"elements.\")\n",
    "            return None\n",
    "        matrix.append(row)\n",
    "\n",
    "    return matrix\n",
    "\n",
    "print(\"Enter details for the first matrix:\")\n",
    "matrix1 = input_matrix()\n",
    "\n",
    "print(\"Enter details for the second matrix:\")\n",
    "matrix2 = input_matrix()\n",
    "\n",
    "# Perform matrix addition and display the result\n",
    "if matrix1 is not None and matrix2 is not None:\n",
    "    result = matrix_addition(matrix1, matrix2)\n",
    "    if result is not None:\n",
    "        print(\"Matrix Addition Result:\")\n",
    "        for row in result:\n",
    "            print(row)\n"
   ]
  },
  {
   "cell_type": "markdown",
   "id": "c322483a",
   "metadata": {},
   "source": [
    "# 28. Python program to implement matrix multiplication.\n"
   ]
  },
  {
   "cell_type": "code",
   "execution_count": 1,
   "id": "ef6bd29f",
   "metadata": {},
   "outputs": [
    {
     "name": "stdout",
     "output_type": "stream",
     "text": [
      "Enter details for the first matrix:\n",
      "Enter the number of rows: 2\n",
      "Enter the number of columns: 3\n",
      "Enter matrix elements row-wise:\n",
      "1 2 3\n",
      "4 5 6\n",
      "Enter details for the second matrix:\n",
      "Enter the number of rows: 2\n",
      "Enter the number of columns: 2\n",
      "Enter matrix elements row-wise:\n",
      "4 5\n",
      "7 8\n",
      "Matrix multiplication is not possible.\n"
     ]
    }
   ],
   "source": [
    "def matrix_multiplication(matrix1, matrix2):\n",
    "    # Check if the number of columns in matrix1 is equal to the number of rows in matrix2\n",
    "    if len(matrix1[0]) != len(matrix2):\n",
    "        print(\"Matrix multiplication is not possible.\")\n",
    "        return None\n",
    "\n",
    "    # Perform matrix multiplication\n",
    "    result_matrix = [[0 for _ in range(len(matrix2[0]))] for _ in range(len(matrix1))]\n",
    "\n",
    "    for i in range(len(matrix1)):\n",
    "        for j in range(len(matrix2[0])):\n",
    "            for k in range(len(matrix2)):\n",
    "                result_matrix[i][j] += matrix1[i][k] * matrix2[k][j]\n",
    "\n",
    "    return result_matrix\n",
    "\n",
    "# Example usage:\n",
    "# Input: Take two matrices from the user\n",
    "def input_matrix():\n",
    "    rows = int(input(\"Enter the number of rows: \"))\n",
    "    cols = int(input(\"Enter the number of columns: \"))\n",
    "\n",
    "    matrix = []\n",
    "    print(\"Enter matrix elements row-wise:\")\n",
    "    for i in range(rows):\n",
    "        row = [int(x) for x in input().split()]\n",
    "        if len(row) != cols:\n",
    "            print(\"Invalid input. Please enter exactly\", cols, \"elements.\")\n",
    "            return None\n",
    "        matrix.append(row)\n",
    "\n",
    "    return matrix\n",
    "\n",
    "print(\"Enter details for the first matrix:\")\n",
    "matrix1 = input_matrix()\n",
    "\n",
    "print(\"Enter details for the second matrix:\")\n",
    "matrix2 = input_matrix()\n",
    "\n",
    "# Perform matrix multiplication and display the result\n",
    "if matrix1 is not None and matrix2 is not None:\n",
    "    result = matrix_multiplication(matrix1, matrix2)\n",
    "    if result is not None:\n",
    "        print(\"Matrix Multiplication Result:\")\n",
    "        for row in result:\n",
    "            print(row)\n"
   ]
  },
  {
   "cell_type": "markdown",
   "id": "f517e158",
   "metadata": {},
   "source": [
    "# 29. Python program to check leap year."
   ]
  },
  {
   "cell_type": "code",
   "execution_count": 2,
   "id": "e88e64b0",
   "metadata": {},
   "outputs": [
    {
     "name": "stdout",
     "output_type": "stream",
     "text": [
      "Enter a year: 2025\n",
      "2025 is not a leap year.\n"
     ]
    }
   ],
   "source": [
    "def is_leap_year(year):\n",
    "    # Leap year is divisible by 4, but not divisible by 100 unless it is also divisible by 400\n",
    "    return (year % 4 == 0 and year % 100 != 0) or (year % 400 == 0)\n",
    "\n",
    "# Example usage:\n",
    "# Input: Take a year from the user\n",
    "year = int(input(\"Enter a year: \"))\n",
    "\n",
    "# Check if the year is a leap year\n",
    "if is_leap_year(year):\n",
    "    print(f\"{year} is a leap year.\")\n",
    "else:\n",
    "    print(f\"{year} is not a leap year.\")\n"
   ]
  },
  {
   "cell_type": "markdown",
   "id": "23dbeced",
   "metadata": {},
   "source": [
    "# 30. Python program to find the Nth term in a Fibonacci series using recursion"
   ]
  },
  {
   "cell_type": "code",
   "execution_count": 3,
   "id": "ca084585",
   "metadata": {},
   "outputs": [
    {
     "name": "stdout",
     "output_type": "stream",
     "text": [
      "Enter the value of N: 6\n",
      "The 6th term in the Fibonacci series is: 5\n"
     ]
    }
   ],
   "source": [
    "def fibonacci_recursive(n):\n",
    "    if n <= 0:\n",
    "        print(\"Invalid input. Please enter a positive integer.\")\n",
    "        return None\n",
    "    elif n == 1:\n",
    "        return 0\n",
    "    elif n == 2:\n",
    "        return 1\n",
    "    else:\n",
    "        return fibonacci_recursive(n - 1) + fibonacci_recursive(n - 2)\n",
    "\n",
    "# Example usage:\n",
    "# Input: Take a positive integer N from the user\n",
    "N = int(input(\"Enter the value of N: \"))\n",
    "\n",
    "# Find and display the Nth term in the Fibonacci series\n",
    "result = fibonacci_recursive(N)\n",
    "if result is not None:\n",
    "    print(f\"The {N}th term in the Fibonacci series is: {result}\")\n"
   ]
  },
  {
   "cell_type": "markdown",
   "id": "a125a119",
   "metadata": {},
   "source": [
    "# 31. Python program to print Fibonacci series using iteration. "
   ]
  },
  {
   "cell_type": "code",
   "execution_count": 4,
   "id": "ba31d18b",
   "metadata": {},
   "outputs": [
    {
     "name": "stdout",
     "output_type": "stream",
     "text": [
      "Enter the number of terms in the Fibonacci series: 10\n",
      "Fibonacci series up to 10 terms: [0, 1, 1, 2, 3, 5, 8, 13, 21, 34]\n"
     ]
    }
   ],
   "source": [
    "def fibonacci_iterative(n):\n",
    "    fib_series = [0, 1]\n",
    "\n",
    "    for i in range(2, n):\n",
    "        next_term = fib_series[i - 1] + fib_series[i - 2]\n",
    "        fib_series.append(next_term)\n",
    "\n",
    "    return fib_series\n",
    "\n",
    "# Example usage:\n",
    "# Input: Take a positive integer N from the user\n",
    "N = int(input(\"Enter the number of terms in the Fibonacci series: \"))\n",
    "\n",
    "# Print the Fibonacci series up to N terms\n",
    "result = fibonacci_iterative(N)\n",
    "print(\"Fibonacci series up to\", N, \"terms:\", result)\n"
   ]
  },
  {
   "cell_type": "markdown",
   "id": "471f7116",
   "metadata": {},
   "source": [
    "# 32. Python program to print all the items in a dictionary."
   ]
  },
  {
   "cell_type": "code",
   "execution_count": 5,
   "id": "02645f50",
   "metadata": {},
   "outputs": [
    {
     "name": "stdout",
     "output_type": "stream",
     "text": [
      "Items in the dictionary:\n",
      "name: vijay\n",
      "branch: CSE\n",
      "city: Bhopal\n"
     ]
    }
   ],
   "source": [
    "def print_dictionary_items(dictionary):\n",
    "    for key, value in dictionary.items():\n",
    "        print(f\"{key}: {value}\")\n",
    "\n",
    "# Example usage:\n",
    "# Create a dictionary\n",
    "my_dict = {'name': 'vijay', 'branch': 'CSE', 'city': 'Bhopal'}\n",
    "\n",
    "# Print all items in the dictionary\n",
    "print(\"Items in the dictionary:\")\n",
    "print_dictionary_items(my_dict)\n"
   ]
  },
  {
   "cell_type": "markdown",
   "id": "f416d823",
   "metadata": {},
   "source": [
    "# 33. Python program to implement a calculator to do basic operations"
   ]
  },
  {
   "cell_type": "code",
   "execution_count": 6,
   "id": "6883afb3",
   "metadata": {},
   "outputs": [
    {
     "name": "stdout",
     "output_type": "stream",
     "text": [
      "Enter the first number: 5\n",
      "Enter the second number: 8\n",
      "Enter the operation (+, -, *, /): +\n",
      "5.0 + 8.0 = 13.0\n"
     ]
    }
   ],
   "source": [
    "def add(x, y):\n",
    "    return x + y\n",
    "\n",
    "def subtract(x, y):\n",
    "    return x - y\n",
    "\n",
    "def multiply(x, y):\n",
    "    return x * y\n",
    "\n",
    "def divide(x, y):\n",
    "    if y != 0:\n",
    "        return x / y\n",
    "    else:\n",
    "        print(\"Cannot divide by zero.\")\n",
    "        return None\n",
    "\n",
    "# Example usage:\n",
    "# Take user input for numbers and operation\n",
    "num1 = float(input(\"Enter the first number: \"))\n",
    "num2 = float(input(\"Enter the second number: \"))\n",
    "operation = input(\"Enter the operation (+, -, *, /): \")\n",
    "\n",
    "# Perform the operation and display the result\n",
    "if operation == '+':\n",
    "    result = add(num1, num2)\n",
    "    print(f\"{num1} + {num2} = {result}\")\n",
    "elif operation == '-':\n",
    "    result = subtract(num1, num2)\n",
    "    print(f\"{num1} - {num2} = {result}\")\n",
    "elif operation == '*':\n",
    "    result = multiply(num1, num2)\n",
    "    print(f\"{num1} * {num2} = {result}\")\n",
    "elif operation == '/':\n",
    "    result = divide(num1, num2)\n",
    "    if result is not None:\n",
    "        print(f\"{num1} / {num2} = {result}\")\n",
    "else:\n",
    "    print(\"Invalid operation. Please enter '+', '-', '*', or '/'.\")\n",
    "\n"
   ]
  },
  {
   "cell_type": "markdown",
   "id": "81a1e54d",
   "metadata": {},
   "source": [
    "# 34. Python program to draw a circle of squares using Turtle."
   ]
  },
  {
   "cell_type": "code",
   "execution_count": 3,
   "id": "525da8c6",
   "metadata": {},
   "outputs": [
    {
     "name": "stdout",
     "output_type": "stream",
     "text": [
      "Enter the number of squares: 1\n",
      "Enter the side length of each square: 5\n"
     ]
    }
   ],
   "source": [
    "import turtle\n",
    "\n",
    "def draw_square(side_length):\n",
    "    for _ in range(4):\n",
    "        turtle.forward(side_length)\n",
    "        turtle.left(90)\n",
    "\n",
    "def draw_circle_of_squares(num_squares, side_length):\n",
    "    for _ in range(num_squares):\n",
    "        draw_square(side_length)\n",
    "        turtle.forward(side_length / 2)\n",
    "        turtle.left(360 / num_squares)\n",
    "\n",
    "# Example usage:\n",
    "turtle.speed(2)  # Set turtle speed\n",
    "\n",
    "num_squares = int(input(\"Enter the number of squares: \"))\n",
    "side_length = int(input(\"Enter the side length of each square: \"))\n",
    "\n",
    "draw_circle_of_squares(num_squares, side_length)\n",
    "\n",
    "turtle.done()\n"
   ]
  },
  {
   "cell_type": "code",
   "execution_count": null,
   "id": "60e8114a",
   "metadata": {},
   "outputs": [],
   "source": []
  }
 ],
 "metadata": {
  "kernelspec": {
   "display_name": "Python 3 (ipykernel)",
   "language": "python",
   "name": "python3"
  },
  "language_info": {
   "codemirror_mode": {
    "name": "ipython",
    "version": 3
   },
   "file_extension": ".py",
   "mimetype": "text/x-python",
   "name": "python",
   "nbconvert_exporter": "python",
   "pygments_lexer": "ipython3",
   "version": "3.11.4"
  }
 },
 "nbformat": 4,
 "nbformat_minor": 5
}
